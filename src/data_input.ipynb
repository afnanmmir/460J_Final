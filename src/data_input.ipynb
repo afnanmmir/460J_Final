{
 "cells": [
  {
   "cell_type": "markdown",
   "metadata": {},
   "source": [
    "# Data Generation Notebook\n",
    "---"
   ]
  },
  {
   "cell_type": "markdown",
   "metadata": {},
   "source": [
    "## Import Statements"
   ]
  },
  {
   "cell_type": "code",
   "execution_count": 1,
   "metadata": {},
   "outputs": [
    {
     "name": "stderr",
     "output_type": "stream",
     "text": [
      "2022-11-28 16:14:15.923200: I tensorflow/core/platform/cpu_feature_guard.cc:193] This TensorFlow binary is optimized with oneAPI Deep Neural Network Library (oneDNN) to use the following CPU instructions in performance-critical operations:  SSE4.1 SSE4.2 AVX AVX2 FMA\n",
      "To enable them in other operations, rebuild TensorFlow with the appropriate compiler flags.\n"
     ]
    }
   ],
   "source": [
    "import glob\n",
    "import pickle\n",
    "import numpy as np\n",
    "import pandas as pd\n",
    "from music21 import converter, instrument, note, chord\n",
    "import tensorflow as tf\n",
    "from keras.utils.np_utils import to_categorical"
   ]
  },
  {
   "cell_type": "markdown",
   "metadata": {},
   "source": [
    "## Parsing all the notes in the file"
   ]
  },
  {
   "cell_type": "code",
   "execution_count": 2,
   "metadata": {},
   "outputs": [],
   "source": [
    "notes = []\n",
    "for file in glob.glob(\"../lofi-samples/samples/*.mid\"):\n",
    "    midi = converter.parse(file)\n",
    "    notes_to_parse = None\n",
    "    \n",
    "    try:\n",
    "        s2 = instrument.partitionByInstrument(midi)\n",
    "        notes_to_parse = s2.parts[0].recurse()\n",
    "    except:\n",
    "        notes_to_parse = midi.flat.notes\n",
    "    \n",
    "    for parsed_note in notes_to_parse:\n",
    "        if isinstance(parsed_note, note.Note):\n",
    "            notes.append(str(parsed_note.pitch))\n",
    "        elif isinstance(parsed_note, chord.Chord):\n",
    "            notes.append('.'.join(str(n) for n in parsed_note.normalOrder))\n",
    "with(open(\"../data/notes\", \"wb\")) as filepath:\n",
    "    pickle.dump(notes, filepath)"
   ]
  },
  {
   "cell_type": "markdown",
   "metadata": {},
   "source": [
    "## Creating the Input Sequences and Output Sequences"
   ]
  },
  {
   "cell_type": "code",
   "execution_count": 4,
   "metadata": {},
   "outputs": [],
   "source": [
    "SEQUENCE_LENGTH = 50\n",
    "\n",
    "pitch_names = sorted(set(item for item in notes))\n",
    "\n",
    "note_dict = dict((note, number) for number, note in enumerate(pitch_names))\n",
    "\n",
    "network_input = []\n",
    "network_output = []\n",
    "\n",
    "for i in range(0, len(notes) - SEQUENCE_LENGTH, 1):\n",
    "    sequence_in = notes[i:i + SEQUENCE_LENGTH]\n",
    "    sequence_out = notes[i + SEQUENCE_LENGTH]\n",
    "    network_input.append([note_dict[char] for char in sequence_in])\n",
    "    network_output.append(note_dict[sequence_out])\n",
    "\n",
    "num_patterns = len(network_input)\n",
    "num_vocab = len(set(notes))\n",
    "\n",
    "network_input = np.reshape(network_input, (num_patterns, SEQUENCE_LENGTH, 1))\n",
    "\n",
    "network_input = network_input / float(num_vocab)\n",
    "network_output = to_categorical(network_output)\n",
    "\n",
    "with(open(\"../data/network_input\", \"wb\")) as filepath:\n",
    "    pickle.dump(network_input, filepath)\n",
    "with(open(\"../data/network_output\", \"wb\")) as filepath:\n",
    "    pickle.dump(network_output, filepath)\n",
    "with(open(\"../data/note_dict\",'wb')) as filepath:\n",
    "    pickle.dump(note_dict,filepath)\n",
    "with(open(\"../data/pitch_names\",'wb')) as filepath:\n",
    "    pickle.dump(pitch_names,filepath)\n"
   ]
  }
 ],
 "metadata": {
  "kernelspec": {
   "display_name": "Python 3.8.13 ('EE460JHW')",
   "language": "python",
   "name": "python3"
  },
  "language_info": {
   "codemirror_mode": {
    "name": "ipython",
    "version": 3
   },
   "file_extension": ".py",
   "mimetype": "text/x-python",
   "name": "python",
   "nbconvert_exporter": "python",
   "pygments_lexer": "ipython3",
   "version": "3.8.13"
  },
  "orig_nbformat": 4,
  "vscode": {
   "interpreter": {
    "hash": "7b3a8f16b512bfb84c1a5885d1b11ac5366e52dde88f514fe166182a800757bb"
   }
  }
 },
 "nbformat": 4,
 "nbformat_minor": 2
}
